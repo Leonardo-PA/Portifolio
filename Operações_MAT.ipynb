{
  "nbformat": 4,
  "nbformat_minor": 0,
  "metadata": {
    "colab": {
      "provenance": [],
      "authorship_tag": "ABX9TyPdBapbam2yF98Aq5mtxygX",
      "include_colab_link": true
    },
    "kernelspec": {
      "name": "python3",
      "display_name": "Python 3"
    },
    "language_info": {
      "name": "python"
    }
  },
  "cells": [
    {
      "cell_type": "markdown",
      "metadata": {
        "id": "view-in-github",
        "colab_type": "text"
      },
      "source": [
        "<a href=\"https://colab.research.google.com/github/LeonardoPA061120/Portifolio/blob/main/Opera%C3%A7%C3%B5es_MAT.ipynb\" target=\"_parent\"><img src=\"https://colab.research.google.com/assets/colab-badge.svg\" alt=\"Open In Colab\"/></a>"
      ]
    },
    {
      "cell_type": "markdown",
      "source": [],
      "metadata": {
        "id": "5r_lj-9XGIFm"
      }
    },
    {
      "cell_type": "markdown",
      "source": [
        "OPERAÇÕES MATEMÁTICAS EM PYTHON\n",
        "O Quadro 1.1 apresenta um resumo das operações matemáticas suportadas por Python. Com exceção das funções abs() e pow() e da notação de potência **, as outras operações e sintaxe são similares a diversas linguagens de programação."
      ],
      "metadata": {
        "id": "8qPS4kqJGQd7"
      }
    },
    {
      "cell_type": "markdown",
      "source": [
        "Operação   Resultado\n",
        "\n",
        "x + y   =   soma de x e y\n",
        "\n",
        "x - y   =   Diferença de x e y\n",
        "\n",
        "x * y   =  Produto de x e y\n",
        "\n",
        "x / y   =   Quociente de x e y\n",
        "\n",
        "x // y  =  Parte inteira do quociente de x e y\n",
        "\n",
        "x % y   =  Resto de x / y\n",
        "\n",
        "abs(x)  =  Valor absoluto de x\n",
        "\n",
        "pow(x, y) = x elevado a y\n",
        "\n",
        "x ** y  =  x elevado a y"
      ],
      "metadata": {
        "id": "Axw9TNtWGL2G"
      }
    },
    {
      "cell_type": "markdown",
      "source": [
        "dentro das operações podemos ver que sempre seguimos uma ordem para a qual procede das operações de forma correta e acertiva, durante a solução.\n"
      ],
      "metadata": {
        "id": "ITUjG4R7HBph"
      }
    },
    {
      "cell_type": "code",
      "source": [
        "#Qual resultado armzenado na variavel operação_1: 25 ou 17 ?\n",
        "\n",
        "operacao_1 = 2 + 3 *5\n",
        "\n",
        "#Qual resultado armzenado na variavel operação_2: 25 ou 17 ?\n",
        "\n",
        "operacao_2 = (2 + 3) *5\n",
        "\n",
        "#Qual resultado armzenado na variavel operação_3: 4 ou 1 ?\n",
        "\n",
        "operacao_3 = 4 / 2 **2\n",
        "\n",
        "#Qual resultado armzenado na variavel operação_4: 1 ou 5 ?\n",
        "\n",
        "operacao_4 = 13 % 3 + 4\n",
        "\n",
        "print(f\"Resultado em operacao_1 = {operacao_1}\")\n",
        "print(f\"Resultado em operacao_2 = {operacao_2}\")\n",
        "print(f\"Resultado em operacao_3 = {operacao_3}\")\n",
        "print(f\"Resultado em operacao_4 = {operacao_4}\")\n"
      ],
      "metadata": {
        "colab": {
          "base_uri": "https://localhost:8080/"
        },
        "id": "NopnnqYFHQSt",
        "outputId": "68f9cd19-2a63-42e1-ad2e-6f74f77439f3"
      },
      "execution_count": 8,
      "outputs": [
        {
          "output_type": "stream",
          "name": "stdout",
          "text": [
            "Resultado em operacao_1 = 17\n",
            "Resultado em operacao_2 = 25\n",
            "Resultado em operacao_3 = 1.0\n",
            "Resultado em operacao_4 = 5\n"
          ]
        }
      ]
    },
    {
      "cell_type": "markdown",
      "source": [
        " Atividade: Uma equação do segundo grau possui a fórmula: y = a*x**2 + b*x + c, onde a, b, c são constantes. O valor de y (resultado) depende do valor de x, ou seja, x é a variável independente e y a dependente. Considerando os valores a = 2, b = 0.5 e c = 1, vamos solicitar para o usuário um valor de x e retornar o valor de y correspondente ao x que ele digitou. Veja como deve ser implementado:"
      ],
      "metadata": {
        "id": "ZpJA6JDeVVBR"
      }
    },
    {
      "cell_type": "code",
      "source": [
        "a = 2\n",
        "b = 0.5\n",
        "c = 1\n",
        "x = input(\"Digite o valor de x: \")\n",
        "\n",
        "x = float(x) # aqui fazemos a conversão da string para o tipo numérico\n",
        "\n",
        "y = a * x ** 2 + b * x + c\n",
        "\n",
        "print(f\"O resultado de y para x = {x} é {y}.\")\n"
      ],
      "metadata": {
        "colab": {
          "base_uri": "https://localhost:8080/"
        },
        "id": "1sjZoQY-VgID",
        "outputId": "e63a8b5a-429c-46ca-dfaf-cd3d2b2d6e0c"
      },
      "execution_count": 16,
      "outputs": [
        {
          "output_type": "stream",
          "name": "stdout",
          "text": [
            "Digite o valor de x: 3\n",
            "O resultado de y para x = 3.0 é 20.5.\n"
          ]
        }
      ]
    },
    {
      "cell_type": "code",
      "source": [],
      "metadata": {
        "id": "0phQPzjTVtgQ"
      },
      "execution_count": null,
      "outputs": []
    }
  ]
}