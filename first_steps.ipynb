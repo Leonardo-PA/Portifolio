{
  "nbformat": 4,
  "nbformat_minor": 0,
  "metadata": {
    "colab": {
      "provenance": [],
      "authorship_tag": "ABX9TyNFPDpW7XcY/9V8Djjb1kw/",
      "include_colab_link": true
    },
    "kernelspec": {
      "name": "python3",
      "display_name": "Python 3"
    },
    "language_info": {
      "name": "python"
    }
  },
  "cells": [
    {
      "cell_type": "markdown",
      "metadata": {
        "id": "view-in-github",
        "colab_type": "text"
      },
      "source": [
        "<a href=\"https://colab.research.google.com/github/LeonardoPA061120/Portifolio/blob/main/first_steps.ipynb\" target=\"_parent\"><img src=\"https://colab.research.google.com/assets/colab-badge.svg\" alt=\"Open In Colab\"/></a>"
      ]
    },
    {
      "cell_type": "markdown",
      "source": [
        "Estudo das variaveis em Python, primeiros passos para o desenvolvimento da tecnologia usando o Jupyter."
      ],
      "metadata": {
        "id": "Q7JjmYreqPJq"
      }
    },
    {
      "cell_type": "markdown",
      "source": [
        "VARIÁVEIS E TIPOS BÁSICOS DE DADOS EM PYTHON\n",
        "Variáveis são espaços alocados na memória RAM para guardar valores temporariamente. Em Python, esses espaços não precisam ser tipados, ou seja, a variável pode ser alocada sem especificar o tipo de dado que ela aguardará. O interpretador Python é capaz de determinar o tipo de dado da variável com base no seu valor, ou seja, as variáveis são tipadas dinamicamente nessa linguagem."
      ],
      "metadata": {
        "id": "pQs_REwY56qy"
      }
    },
    {
      "cell_type": "code",
      "source": [
        "x = 10\n",
        "\n",
        "nome = \"aluno\"\n",
        "nota = 8.75\n",
        "fez_inscrição = \"true\"\n",
        "\n",
        "print(type(x))\n",
        "print(type(nome))\n",
        "print(type(nota))\n",
        "print(type(fez_inscrição))\n",
        "\n"
      ],
      "metadata": {
        "colab": {
          "base_uri": "https://localhost:8080/"
        },
        "id": "Zxq27yOH6BRB",
        "outputId": "18a10ddd-e386-4e2a-d976-4344e262d35e"
      },
      "execution_count": null,
      "outputs": [
        {
          "output_type": "stream",
          "name": "stdout",
          "text": [
            "<class 'int'>\n",
            "<class 'str'>\n",
            "<class 'float'>\n",
            "<class 'str'>\n"
          ]
        }
      ]
    },
    {
      "cell_type": "markdown",
      "source": [
        "a soluçãpo acima mostra que o python ve todos os objetos como sendo intens como objetos o que faz os resultados de cada dado do codigo aparecer com a palavra \"class\" escrita antes, o que significa que ele ve como uma classe.\n"
      ],
      "metadata": {
        "id": "0UnXiadX9p3e"
      }
    },
    {
      "cell_type": "markdown",
      "source": [
        "Ex: aprimorar nosso hello world. Vamos solicitar que o usuário digite um nome, para que possamos fazer uma saudação personalizada. A função input() faz a leitura de um valor digitado. Veja como usar:"
      ],
      "metadata": {
        "id": "FLltCViY-2QZ"
      }
    },
    {
      "cell_type": "code",
      "source": [
        "nome=input (\"Digite um nome: \")\n",
        "print (nome)"
      ],
      "metadata": {
        "id": "ULufDyk18Ku5",
        "colab": {
          "base_uri": "https://localhost:8080/"
        },
        "outputId": "48a4824f-9fb4-4004-f391-3e02dc0b53e8"
      },
      "execution_count": 4,
      "outputs": [
        {
          "output_type": "stream",
          "name": "stdout",
          "text": [
            "Digite um nome: joão\n",
            "joão\n"
          ]
        }
      ]
    },
    {
      "cell_type": "code",
      "source": [
        "#modo1 - usando formatadores de caracteres (igual na linguagem C) para imprimir varivavel e texto.\n",
        "print (\"Olá %s, bem vindo a disciplina de programação. Parabéns pelo seu primeiro hello word\" % (nome))"
      ],
      "metadata": {
        "colab": {
          "base_uri": "https://localhost:8080/"
        },
        "id": "1-Av52fOsReg",
        "outputId": "cafa4966-78a3-4090-d4bc-74cb992cc929"
      },
      "execution_count": 6,
      "outputs": [
        {
          "output_type": "stream",
          "name": "stdout",
          "text": [
            "Olá joão, bem vindo a disciplina de programação. Parabéns pelo seu primeiro hello word\n"
          ]
        }
      ]
    },
    {
      "cell_type": "code",
      "source": [
        "#modo2 - usando a função format () para imprimir uma variável e texto.\n",
        "print(\"Olá {}, bem vindo a disciplina de programação. Parabéns pelo seu primeiro hello world\".format(nome))"
      ],
      "metadata": {
        "colab": {
          "base_uri": "https://localhost:8080/"
        },
        "id": "pSFJEPn-sy6b",
        "outputId": "7f5e4de6-9f78-4c43-97ab-021ae676ea1d"
      },
      "execution_count": 7,
      "outputs": [
        {
          "output_type": "stream",
          "name": "stdout",
          "text": [
            "Olá joão, bem vindo a disciplina de programação. Parabéns pelo seu primeiro hello world\n"
          ]
        }
      ]
    },
    {
      "cell_type": "code",
      "source": [
        " #modo3 - usando string formatadas.\n",
        " print(f\"Olá {nome}, bem vindo a disciplina de programação. Parabéns pelo seu primeiro hello word\")"
      ],
      "metadata": {
        "colab": {
          "base_uri": "https://localhost:8080/"
        },
        "id": "WqhSF0QctmPu",
        "outputId": "883a0fac-26af-4e3e-90de-16355a37512f"
      },
      "execution_count": 8,
      "outputs": [
        {
          "output_type": "stream",
          "name": "stdout",
          "text": [
            "Olá joão, bem vindo a disciplina de programação. Parabéns pelo seu primeiro hello word\n"
          ]
        }
      ]
    },
    {
      "cell_type": "markdown",
      "source": [
        "Dentro do sistema pode-se usar o # para adicionar comentarios em nossos codigos, o  que facilita a idetenficação de alguma obs feita pelo desenvolvedor\n"
      ],
      "metadata": {
        "id": "aqY0xIoUuAmU"
      }
    },
    {
      "cell_type": "markdown",
      "source": [
        "podemos ver que acima as 3 maneiras obtiveram os mesmos resultados porém aplicando formas diferentes de registrar as variaveis usando"
      ],
      "metadata": {
        "id": "BeorEFCIuQSO"
      }
    },
    {
      "cell_type": "markdown",
      "source": [
        "Entretanto, lembra que existe um código para sintaxe do \"pythonic code\"? Pois bem, a PEP 498 (https://www.python.org/dev/peps/pep-0498/) fala sobre a criação de strings com interpolação (mistura de variáveis com texto\". Nessa PEP, o autor destaca o uso do \"modo 3\" como a melhor opção chamando-a de \"f-strings\". Portanto, em nossos códigos, iremos adotar essa sintaxe para a criação de strings com interpolação."
      ],
      "metadata": {
        "id": "xd2DUkkezWl0"
      }
    },
    {
      "cell_type": "markdown",
      "source": [
        "as string formatadas com \"F-strings\" só podem ser compiladas com o interpretador Python portanto se tentarmos usar essa sintaxe em um interpretador em versões anteriores ele não entra mais em aplicação.\n",
        "Da mesma forma a versão 2 pois ela está decontinuada."
      ],
      "metadata": {
        "id": "biBFI2aqzdtU"
      }
    },
    {
      "cell_type": "code",
      "source": [],
      "metadata": {
        "id": "KJV1Un5pz31c"
      },
      "execution_count": null,
      "outputs": []
    }
  ]
}